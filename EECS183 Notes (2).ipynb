{
 "cells": [
  {
   "cell_type": "markdown",
   "metadata": {},
   "source": [
    "#  C++ Introduction\n",
    "\n",
    "\n"
   ]
  },
  {
   "cell_type": "markdown",
   "metadata": {},
   "source": [
    "### Source code\n",
    "\n",
    "    Pseudocode: An algorithm expressed in your own words\n",
    "    Source code: An algoritm expressed in a programming language\n",
    "\n",
    "\n",
    "\n",
    "\n",
    "\n"
   ]
  },
  {
   "cell_type": "markdown",
   "metadata": {},
   "source": [
    "Markdown cells format:https://jupyter-notebook.readthedocs.io/en/stable/examples/Notebook/Working%20With%20Markdown%20Cells.html\n",
    "\n",
    "source activate cling"
   ]
  },
  {
   "cell_type": "markdown",
   "metadata": {},
   "source": [
    "### Compiler\n",
    "\n",
    "you: problem definition -> pseudocode -> source code\n",
    "\n",
    "\n",
    "xcode: source code -> compiler -> object code"
   ]
  },
  {
   "cell_type": "code",
   "execution_count": 4,
   "metadata": {},
   "outputs": [],
   "source": [
    "#include <iostream>\n",
    "#include <string>\n",
    "#include <cmath> \n",
    "using namespace std;"
   ]
  },
  {
   "cell_type": "code",
   "execution_count": 6,
   "metadata": {},
   "outputs": [
    {
     "name": "stdout",
     "output_type": "stream",
     "text": [
      "Traffic today is very light\n"
     ]
    }
   ],
   "source": [
    "\n",
    "   cout << \"Traffic today\";\n",
    "   cout << \" is very light\";\n",
    "   cout << endl;\n",
    "\n",
    "   return 0;\n"
   ]
  },
  {
   "cell_type": "markdown",
   "metadata": {},
   "source": [
    "### Variable /Identifier Rules\n",
    "\n",
    "1) start with a letter or underscore\n",
    "\n",
    "2) after the first character, any number of letters, underscores, or digits\n",
    "\n",
    "3) cant be a reserved word/ key words\n",
    "\n",
    "c++ is sensitive with case\n",
    "\n",
    "systm usually starts with underscore\n",
    "\n",
    "\n",
    "\n"
   ]
  },
  {
   "cell_type": "markdown",
   "metadata": {},
   "source": [
    "### Data Types\n",
    "\n",
    "Boolean: \n",
    "    \n",
    "    value: True or False\n",
    "    \n",
    "Int: \n",
    "    \n",
    "    modern int are 32-digts\n",
    "    range of a C++ int: signed/unsigned\n",
    "   \n",
    "   \n",
    "Doubles: \n",
    "    \n",
    "    Real Numbers\n",
    "    Default Data for Real Number\n",
    "    \n",
    "Char:\n",
    "    \n",
    "    A single character \n",
    "    'A' '5' '@'\n",
    "    char what = 'P';\n",
    "    \n",
    "    \n",
    "String:\n",
    "    \n",
    "\n",
    "\n"
   ]
  },
  {
   "cell_type": "markdown",
   "metadata": {},
   "source": [
    "#### Over flow\n",
    "\n",
    "int x = 1000;\n",
    "\n",
    "int y = 2000;\n",
    "\n",
    "double z = x * y * x * 2 \n",
    "\n",
    "will still overflow cause both x, y, and 2 are all integers, not doubles.\n"
   ]
  },
  {
   "cell_type": "markdown",
   "metadata": {},
   "source": [
    "####  Operator Precedence Rules\n",
    "\n",
    "High to Low\n",
    "\n",
    "()\n",
    "\n",
    "+x -x pos/neg \n",
    "\n",
    "*"
   ]
  },
  {
   "cell_type": "markdown",
   "metadata": {},
   "source": [
    "#### Casting"
   ]
  },
  {
   "cell_type": "code",
   "execution_count": null,
   "metadata": {},
   "outputs": [],
   "source": [
    "double x = 3.7;\n",
    "\n",
    "int i = (int)x;\n",
    "\n",
    "i = (int)(x+0.5);\n",
    "\n"
   ]
  },
  {
   "cell_type": "code",
   "execution_count": null,
   "metadata": {},
   "outputs": [],
   "source": [
    "(int)x \n",
    "static_cast<int>(x)"
   ]
  },
  {
   "cell_type": "markdown",
   "metadata": {},
   "source": [
    "### Things I need for Pj1"
   ]
  },
  {
   "cell_type": "code",
   "execution_count": null,
   "metadata": {},
   "outputs": [],
   "source": [
    "// e.g. 1 slice of pizza\n",
    "\n",
    "int people = 20;\n",
    "int slicePerPizza = 8;\n",
    "\n",
    "cout << ceil((double)people / slicePerPizza);"
   ]
  },
  {
   "cell_type": "markdown",
   "metadata": {},
   "source": [
    "## Function"
   ]
  },
  {
   "cell_type": "markdown",
   "metadata": {},
   "source": [
    "1. Define the problem\n",
    "\n",
    "2. create the algorithm\n",
    "\n",
    "3. test suite to test the source code \n",
    "\n",
    "4. translate the algorithm to source code\n",
    "\n",
    "5. Test the function \n",
    "\n",
    "Keep iterating "
   ]
  },
  {
   "cell_type": "markdown",
   "metadata": {},
   "source": [
    "Function Declearation \n",
    "    \n",
    "    tells compiler: \n",
    "        "
   ]
  },
  {
   "cell_type": "markdown",
   "metadata": {},
   "source": [
    "##### short notes"
   ]
  },
  {
   "cell_type": "markdown",
   "metadata": {},
   "source": [
    "1. \n",
    "++i : +1, then i\n",
    "i++: i, then +1\n",
    "\n",
    "2. "
   ]
  },
  {
   "cell_type": "markdown",
   "metadata": {},
   "source": [
    "## loops "
   ]
  },
  {
   "cell_type": "markdown",
   "metadata": {},
   "source": [
    "#### while loops\n"
   ]
  },
  {
   "cell_type": "code",
   "execution_count": null,
   "metadata": {},
   "outputs": [],
   "source": []
  },
  {
   "cell_type": "markdown",
   "metadata": {},
   "source": [
    "#### for loops"
   ]
  },
  {
   "cell_type": "code",
   "execution_count": 3,
   "metadata": {},
   "outputs": [
    {
     "name": "stderr",
     "output_type": "stream",
     "text": [
      "\u001b[1minput_line_9:3:5: \u001b[0m\u001b[0;1;31merror: \u001b[0m\u001b[1muse of undeclared identifier 'cout'\u001b[0m\n",
      "    cout < i;\n",
      "\u001b[0;1;32m    ^\n",
      "\u001b[0m"
     ]
    },
    {
     "ename": "Interpreter Error",
     "evalue": "",
     "output_type": "error",
     "traceback": [
      "Interpreter Error: "
     ]
    }
   ],
   "source": [
    "for (int i = 0; i < 10; ++i){\n",
    "    cout < i;\n",
    "}"
   ]
  },
  {
   "cell_type": "markdown",
   "metadata": {},
   "source": [
    "#### Examples "
   ]
  },
  {
   "cell_type": "code",
   "execution_count": null,
   "metadata": {},
   "outputs": [],
   "source": [
    "int main() {\n",
    "  int sum = 0;\n",
    "  int count = 0;\n",
    "  for (count = 0; count < 1000; ++count) {\n",
    "    sum += 1;\n",
    "  }\n",
    "  cout << count << \" \" << sum;\n",
    "  \n",
    "}"
   ]
  },
  {
   "cell_type": "markdown",
   "metadata": {},
   "source": [
    "will print 1000 1000"
   ]
  },
  {
   "cell_type": "markdown",
   "metadata": {},
   "source": [
    "## Strings"
   ]
  },
  {
   "cell_type": "markdown",
   "metadata": {},
   "source": [
    "Definition: sequence of Chars \n"
   ]
  },
  {
   "cell_type": "markdown",
   "metadata": {},
   "source": [
    "Examples: "
   ]
  },
  {
   "cell_type": "code",
   "execution_count": null,
   "metadata": {},
   "outputs": [],
   "source": [
    "#include <iostream>\n",
    "#include <string>\n",
    "#include <cctype>\n",
    "using namespace std;\n",
    "\n",
    "int main() {\n",
    "   string passCode;\n",
    "\n",
    "   passCode = \"1 \";\n",
    "\n",
    "   /* Your solution goes here  */\n",
    "   for (int i = 0; i < passCode.size(); i++) {\n",
    "      if (passCode.at(i) == ' ') {\n",
    "         passCode.at(i) = '_';\n",
    "      }\n",
    "   }\n",
    "\n",
    "   cout << passCode << endl;\n",
    "   return 0;\n",
    "}"
   ]
  },
  {
   "cell_type": "code",
   "execution_count": null,
   "metadata": {},
   "outputs": [],
   "source": [
    "#include <iostream>\n",
    "#include <string>\n",
    "#include <cctype>\n",
    "using namespace std;\n",
    "\n",
    "int main() {\n",
    "   bool hasDigit;\n",
    "   string passCode;\n",
    "\n",
    "   hasDigit = false;\n",
    "   passCode = \"abc\";\n",
    "\n",
    "   /* Your solution goes here  */\n",
    "   for (int i = 0; i < passCode.size(); i++) {\n",
    "      if (isdigit(passCode.at(i))) {\n",
    "         hasDigit = true;\n",
    "      }\n",
    "   }\n",
    "\n",
    "   if (hasDigit) {\n",
    "      cout << \"Has a digit.\" << endl;\n",
    "   }\n",
    "   else {\n",
    "      cout << \"Has no digit.\" << endl;\n",
    "   }\n",
    "\n",
    "   return 0;\n",
    "}"
   ]
  },
  {
   "cell_type": "markdown",
   "metadata": {},
   "source": [
    "## Pass by Value VS Pass by Reference"
   ]
  },
  {
   "cell_type": "markdown",
   "metadata": {},
   "source": [
    "C++ supports another kind of parameter that enables updating of an argument variable. A (pass by reference) parameter does not create a local copy of the argument, but rather the parameter refers directly to the argument variable's memory location. Appending & to a parameter's data type makes the parameter pass by reference type."
   ]
  },
  {
   "cell_type": "markdown",
   "metadata": {},
   "source": [
    "New programmers sometimes assign a value to a parameter, believing the assignment updates the corresponding argument variable. An example situation is when a function should return two values, whereas a function's return construct can only return one value. Assigning a normal parameter fails to update the argument's variable, because normal parameters are pass by value, meaning the argument's value is copied into a local variable for the parameter."
   ]
  },
  {
   "cell_type": "markdown",
   "metadata": {},
   "source": [
    "#### error  e.g."
   ]
  },
  {
   "cell_type": "code",
   "execution_count": null,
   "metadata": {},
   "outputs": [],
   "source": [
    "pass by reference: variable type must match "
   ]
  },
  {
   "cell_type": "markdown",
   "metadata": {},
   "source": [
    "# Array"
   ]
  },
  {
   "cell_type": "markdown",
   "metadata": {},
   "source": [
    "An array is a collection of items of the same datatype stored consecutively in memory under one name"
   ]
  },
  {
   "cell_type": "markdown",
   "metadata": {},
   "source": [
    "Array Declaration: datatype + array name + size"
   ]
  },
  {
   "cell_type": "markdown",
   "metadata": {},
   "source": [
    "Array size must be a const integer value"
   ]
  },
  {
   "cell_type": "markdown",
   "metadata": {},
   "source": [
    "#### Common Errors:  Out of Range"
   ]
  },
  {
   "cell_type": "code",
   "execution_count": null,
   "metadata": {},
   "outputs": [],
   "source": [
    "const int SIZE = 5;\n",
    "int arr[SIZE] = {1,2,2,3,3};\n",
    "for (int i = 0; i < SIZE; i++) {\n",
    "    if(arr[i] == arr[i + 1]) {\n",
    "        arr[i + 1] = 0;\n",
    "    }\n",
    "}"
   ]
  },
  {
   "cell_type": "markdown",
   "metadata": {},
   "source": [
    "When it is out of the index (arr[i + 1]), the compiler will still run the code. \n",
    "\n",
    "but what would happen depends on the compiler - indetermined "
   ]
  },
  {
   "cell_type": "markdown",
   "metadata": {},
   "source": [
    "##### Common Errors:  Operating on Arrays"
   ]
  },
  {
   "cell_type": "code",
   "execution_count": null,
   "metadata": {},
   "outputs": [],
   "source": [
    "const int SIZE = 10;\n",
    "int data[SIZE];\n",
    "cin >> data;"
   ]
  },
  {
   "cell_type": "markdown",
   "metadata": {},
   "source": [
    "Rather than directly read in value, use a for loop to read in the corresponding values of an array"
   ]
  },
  {
   "cell_type": "markdown",
   "metadata": {},
   "source": [
    "### print array - for Project 3"
   ]
  },
  {
   "cell_type": "code",
   "execution_count": null,
   "metadata": {},
   "outputs": [],
   "source": [
    "void printArray(int arr[], int size);"
   ]
  },
  {
   "cell_type": "markdown",
   "metadata": {},
   "source": [
    "***Array is always passed by reference. No & needed"
   ]
  },
  {
   "cell_type": "code",
   "execution_count": null,
   "metadata": {},
   "outputs": [],
   "source": [
    "array can be modified directly. nothing to return"
   ]
  },
  {
   "cell_type": "code",
   "execution_count": null,
   "metadata": {},
   "outputs": [],
   "source": [
    "void increment(int x) {\n",
    "    x = x + 1;\n",
    "    return;\n",
    "}\n",
    "\n",
    "int main() {\n",
    "    const int SIZE = 3;\n",
    "    int arr[SIZE] = {1,2,3};\n",
    "    cout << arr[1] ;\n",
    "    increment(arr[1]);\n",
    "    cout << arr[1];\n",
    "}\n",
    "\n"
   ]
  },
  {
   "cell_type": "markdown",
   "metadata": {},
   "source": [
    "what print?\n",
    "\n",
    "    2, 2\n",
    "    \n",
    "    because arr[1] is a single element(?)"
   ]
  },
  {
   "cell_type": "markdown",
   "metadata": {},
   "source": [
    "#### comparison of Arrays"
   ]
  },
  {
   "cell_type": "markdown",
   "metadata": {},
   "source": [
    "use loop\n",
    "\n",
    "if (arr1[] == arr2[]) the compiler will compare if the two arrays are the same. stored in the same place in memory"
   ]
  },
  {
   "cell_type": "markdown",
   "metadata": {},
   "source": [
    "#### 2D array parameters "
   ]
  },
  {
   "cell_type": "code",
   "execution_count": null,
   "metadata": {},
   "outputs": [],
   "source": [
    "void processArray(int data[1][2], int numRows, int numCols)\n",
    "    \n",
    "    \n",
    "void processArray(int data[][2], int numRows, int numCols);\n",
    "\n",
    "\n",
    "void processArray(int data[][], int numRows, int numCols);\n"
   ]
  },
  {
   "cell_type": "markdown",
   "metadata": {},
   "source": [
    "the third will run into an error\n",
    "\n",
    "\n",
    "******All but the first dimension is required"
   ]
  },
  {
   "cell_type": "markdown",
   "metadata": {},
   "source": [
    "#### 2d array function prototype"
   ]
  },
  {
   "cell_type": "code",
   "execution_count": null,
   "metadata": {},
   "outputs": [],
   "source": [
    "int array[][9]"
   ]
  },
  {
   "cell_type": "code",
   "execution_count": null,
   "metadata": {},
   "outputs": [],
   "source": [
    "char array[3][3]"
   ]
  },
  {
   "cell_type": "markdown",
   "metadata": {},
   "source": [
    "# File I/O "
   ]
  },
  {
   "cell_type": "markdown",
   "metadata": {},
   "source": [
    "streams flow in one dir\n",
    "\n",
    "extraction operator << \n",
    "\n",
    "insertion operator >> "
   ]
  },
  {
   "cell_type": "markdown",
   "metadata": {},
   "source": [
    "\n",
    "goodbit\tIndicates no error flags are set and the stream is good.\t\n",
    "    \n",
    "    good() returns true if no stream errors have occurred.\n",
    "\n",
    "eofbit\tIndicates if end-of-file reached on extraction.\t\n",
    "        \n",
    "    eof() returns value of eofbit, if end-of-file reached on extraction.\n",
    "failbit\tIndicates a logical error for the previous extraction or insertion operation.\t\n",
    "    \n",
    "    fail() returns true if either failbit or badbit is set, indicating an error for the previous stream operation.\n",
    "    \n",
    "badbit\tIndicates an error occurred reading or writing the stream, and the stream is bad. Further operations on the stream will fail.\t\n",
    "       \n",
    "    bad() returns true if badbit is set, indicating the stream is bad."
   ]
  },
  {
   "cell_type": "markdown",
   "metadata": {},
   "source": [
    "##### 7.5.2: Read user input until a number is entered."
   ]
  },
  {
   "cell_type": "code",
   "execution_count": null,
   "metadata": {},
   "outputs": [],
   "source": [
    "#include <iostream>\n",
    "#include <limits>\n",
    "using namespace std;\n",
    "\n",
    "int main() {\n",
    "   int number;\n",
    "   \n",
    "   cout << \"Enter a number: \" << endl;\n",
    "   cin >> number;\n",
    "   \n",
    "    \n",
    "   while (cin.fail()) {\n",
    "      \n",
    "        \n",
    "        // Clear error state\n",
    "      cin.clear();\n",
    "\n",
    "      // Ignore characters in stream until newline\n",
    "      cin.ignore(numeric_limits<streamsize>::max(), '\\n');\n",
    "      \n",
    "      cout << \"Try again: \" << endl;\n",
    "      cin  >> number;\n",
    "   }\n",
    "   \n",
    "   cout << \"You entered: \" << number << endl;\n",
    "   \n",
    "   return 0;\n",
    "}"
   ]
  },
  {
   "cell_type": "markdown",
   "metadata": {},
   "source": [
    "##### 7.5.3: Check for errors while reading a file."
   ]
  },
  {
   "cell_type": "code",
   "execution_count": null,
   "metadata": {},
   "outputs": [],
   "source": [
    "int main() {\n",
    "   ifstream inFS;\n",
    "   int fileNumber;     // Number in file\n",
    "   \n",
    "   inFS.open(\"myfile.txt\");\n",
    "   \n",
    "   if (!inFS.is_open()) {\n",
    "      cout << \"Could not open file myfile.txt.\" << endl;\n",
    "      \n",
    "      return 1;\n",
    "   }\n",
    "   \n",
    "   // Read file until end-of-file or an error\n",
    "   while (inFS.good()) {\n",
    "       inFS >> fileNumber;\n",
    "       cout << \"File number: \" << fileNumber << endl;\n",
    "   }\n",
    "   \n",
    "   // If end-of-file not reached, then an error occurred\n",
    "   if (!inFS.eof()) {\n",
    "      cout << \"Error reading myfile.txt\" << endl;\n",
    "      \n",
    "      return 1;\n",
    "   }\n",
    "   \n",
    "   inFS.close();\n",
    "   \n",
    "   return 0;\n",
    "}"
   ]
  },
  {
   "cell_type": "code",
   "execution_count": null,
   "metadata": {},
   "outputs": [],
   "source": []
  },
  {
   "cell_type": "code",
   "execution_count": null,
   "metadata": {},
   "outputs": [],
   "source": [
    "int x = 1;\n",
    "int y = 2;\n",
    "int z = 3;\n",
    "\n",
    "cin >> x;\n",
    "cin >> y;\n",
    "cin >> z;\n",
    "cout << x << \" \" << y << \" \" << z << \" \";\n"
   ]
  },
  {
   "cell_type": "markdown",
   "metadata": {},
   "source": [
    "input: 5 \\n 3 \\n 4 \\n "
   ]
  },
  {
   "cell_type": "markdown",
   "metadata": {},
   "source": [
    "console print: 5 0 3"
   ]
  },
  {
   "cell_type": "code",
   "execution_count": null,
   "metadata": {},
   "outputs": [],
   "source": [
    "int x = 1;\n",
    "int y = 2;\n",
    "char z = '#';\n",
    "\n",
    "cin >> x;\n",
    "cin >> y;\n",
    "cin >> z;\n",
    "cout << x << \" \" << y << \" \" << z << \" \";\n",
    "\n"
   ]
  },
  {
   "cell_type": "markdown",
   "metadata": {},
   "source": [
    "input: 5 \\n a \\n 7 \\n "
   ]
  },
  {
   "cell_type": "markdown",
   "metadata": {},
   "source": [
    "console print: 5 0 #\n",
    "\n",
    "cin >> y fail stop reading in C++ 11"
   ]
  },
  {
   "cell_type": "code",
   "execution_count": null,
   "metadata": {},
   "outputs": [],
   "source": [
    "int n;\n",
    "string s;\n",
    "cin >> n >> s;\n",
    "cin >> s >> n;\n",
    "cout << n << s;\n"
   ]
  },
  {
   "cell_type": "markdown",
   "metadata": {},
   "source": [
    "user input: 3.14 pies"
   ]
  },
  {
   "cell_type": "markdown",
   "metadata": {},
   "source": [
    "the program pauses:\n",
    "\n",
    "cin >> n >> s; n = 3, s = .14;\n",
    "\n",
    "cin >> s >> n; s = pies, n = ?? end of the input string, so the program pauses"
   ]
  },
  {
   "cell_type": "code",
   "execution_count": null,
   "metadata": {},
   "outputs": [],
   "source": []
  },
  {
   "cell_type": "markdown",
   "metadata": {},
   "source": [
    "fstream the library include datatype ifstream. e.g. "
   ]
  },
  {
   "cell_type": "code",
   "execution_count": null,
   "metadata": {},
   "outputs": [],
   "source": [
    "#include <fstream>\n",
    "using namespace std;\n",
    "\n",
    "int main () {\n",
    "    int x;\n",
    "    ifstream input_file;\n",
    "    input_file.open(\"filename\");\n",
    "    input_file >> x;\n",
    "    input_file.close();\n",
    "    \n",
    "    ofstream output_file;\n",
    "    output_file.open(\"filename\");\n",
    "    output_file << x;\n",
    "    output_file.close();\n",
    "    \n",
    "    return 0;\n",
    "}\n"
   ]
  },
  {
   "cell_type": "markdown",
   "metadata": {},
   "source": [
    "if cin or ifstream goes to fail, use cin.clear(); set good to true, others to false;\n",
    "\n"
   ]
  },
  {
   "cell_type": "markdown",
   "metadata": {},
   "source": [
    "### iostream VS fstream"
   ]
  },
  {
   "cell_type": "code",
   "execution_count": null,
   "metadata": {},
   "outputs": [],
   "source": [
    "int x = 9;\n",
    "while (!(cin >> x)) {\n",
    "    cin.clear();\n",
    "}\n",
    "cout << x;"
   ]
  },
  {
   "cell_type": "markdown",
   "metadata": {},
   "source": [
    "input: x 3"
   ]
  },
  {
   "cell_type": "markdown",
   "metadata": {},
   "source": [
    "out put: no output, infinite loop"
   ]
  },
  {
   "cell_type": "markdown",
   "metadata": {},
   "source": [
    "why? because cin.clear()gets the compile ready to read, every time it reads bad input \"x 3\" \n",
    "\n",
    "\n",
    "(cin >> x) if x is read in successfully "
   ]
  },
  {
   "cell_type": "markdown",
   "metadata": {},
   "source": [
    "#  Custom Data Types - CLASS"
   ]
  },
  {
   "cell_type": "markdown",
   "metadata": {},
   "source": [
    "    Classes intro: Public member functions\n",
    "    \n",
    "    The class construct defines a new type that can group data and functions to form an object. \n",
    "    \n",
    "A class' public member functions indicate all operations a class user can perform on the object. The power of classes is that a class user need not know how the class' data and functions are implemented, but need only understand how each public member function behaves. The animation below shows a class' public member function declarations only; the remainder of the class definition is discussed later."
   ]
  },
  {
   "cell_type": "code",
   "execution_count": null,
   "metadata": {},
   "outputs": [],
   "source": [
    "class Student {\n",
    "    public:\n",
    "        string first_name;\n",
    "        string last_name;\n",
    "        stirng uniqname;\n",
    "        int umid;\n",
    "        int status;\n",
    "        int year_entry;\n",
    "};"
   ]
  },
  {
   "cell_type": "markdown",
   "metadata": {},
   "source": [
    "Variable declarations: \n"
   ]
  },
  {
   "cell_type": "code",
   "execution_count": null,
   "metadata": {},
   "outputs": [],
   "source": [
    "Student student1;\n",
    "Student student2;\n",
    "\n",
    "Student class[1000];"
   ]
  },
  {
   "cell_type": "markdown",
   "metadata": {},
   "source": [
    "#### Using Classes - Dot Operator "
   ]
  },
  {
   "cell_type": "code",
   "execution_count": null,
   "metadata": {},
   "outputs": [],
   "source": [
    "studnet1.first_name = \"Thomas\";\n",
    "studnet1.last_name = \"S\";\n",
    "studnet1.uniqname = \"ts\";\n",
    "student1.umid = 111111;\n",
    "student1.status = GRAD;\n",
    "student1.year_entry = 2018;"
   ]
  },
  {
   "cell_type": "markdown",
   "metadata": {},
   "source": [
    "#### Declearing classes"
   ]
  },
  {
   "cell_type": "code",
   "execution_count": null,
   "metadata": {},
   "outputs": [],
   "source": [
    "const int NUM_STUDENT = 1000;\n",
    "Student student[NUM_STUDENT];"
   ]
  },
  {
   "cell_type": "markdown",
   "metadata": {},
   "source": [
    "#### class vs. instance of class"
   ]
  },
  {
   "cell_type": "markdown",
   "metadata": {},
   "source": [
    "    class reflects concepts\n",
    "    \n",
    "    instance is one unit of class"
   ]
  },
  {
   "cell_type": "markdown",
   "metadata": {},
   "source": [
    "e.g. \n",
    "    \n",
    "    \"A is B\" : then A is an instance of Class B\n",
    "    Thomas is a student.\n",
    "    UM is a School. \n",
    "    \n",
    "    "
   ]
  },
  {
   "cell_type": "markdown",
   "metadata": {},
   "source": [
    "    \"all As are Bs\" then A is probably Not an instance of class B\n",
    "    \n",
    "    University is a school.\n",
    "    Orange is a fruit."
   ]
  },
  {
   "cell_type": "markdown",
   "metadata": {},
   "source": [
    "### Benefits of Classes"
   ]
  },
  {
   "cell_type": "markdown",
   "metadata": {},
   "source": [
    "    1. Keeps related Data and functionality together - encapsualtion \n",
    "    \n",
    "        e.g. \n",
    "        cars don't need first_names, but students do.\n",
    "        only ifstreams and ofstreams need open()~"
   ]
  },
  {
   "cell_type": "markdown",
   "metadata": {},
   "source": [
    "    2. Seperate interface from implementation \n",
    "    \n",
    "    e.g.\n",
    "        Data: first_name\n",
    "        Code that changes data (name_change())\n",
    "        Code that allows other objects to use data (get_GPA())"
   ]
  },
  {
   "cell_type": "markdown",
   "metadata": {},
   "source": [
    "    3. Avoid code duplication\n",
    "    \n",
    "        undergraduate and greaduate have get_GPA()\n",
    "        all studnet have get_GPA()\n",
    "        \n",
    "        INHERITANCE"
   ]
  },
  {
   "cell_type": "markdown",
   "metadata": {},
   "source": [
    "#### Class example: string\n"
   ]
  },
  {
   "cell_type": "markdown",
   "metadata": {},
   "source": [
    "\n",
    "    C++'s string type is a class. The string class stores a string's characters in memory, along with variables indicating the length and other things, but a string's user need not know such details. Instead, the string's user just needs to know what public member functions can be used, such as those shown below. (Note: size_t is an unsigned integer type).\n",
    "\n"
   ]
  },
  {
   "cell_type": "code",
   "execution_count": null,
   "metadata": {},
   "outputs": [],
   "source": [
    "class string {                          // Info about a string  \n",
    "   public:   \n",
    "    \n",
    "    char& at(size_t pos); // Returns a reference to the character at position pos in the string.\n",
    "\n",
    "    size_t length() const; // Returns the number of characters in the string\n",
    "\n",
    "    void push_back(char c); // Appends character c to the string's end (increasing length by 1)."
   ]
  },
  {
   "cell_type": "markdown",
   "metadata": {},
   "source": [
    "###### Given string s = \"Hi\". How many bytes does object s utilize in memory?"
   ]
  },
  {
   "cell_type": "markdown",
   "metadata": {},
   "source": [
    "Unknown. \n",
    "    \n",
    "The class user does not know how string \"Hi\" is internally stored. Ex: The class may reserve tens of bytes to allow a string to have characters quickly appended. And the class may have other internal variables, like size, start, and end, to improve efficiency of various operations.\n"
   ]
  },
  {
   "cell_type": "markdown",
   "metadata": {},
   "source": [
    "#### Private data members\n"
   ]
  },
  {
   "cell_type": "markdown",
   "metadata": {},
   "source": [
    "In addition to public member functions, a class definition has private data members: Variables that member functions can access but class users cannot. Private data members appear after the word \"private:\" in a class definition."
   ]
  },
  {
   "cell_type": "markdown",
   "metadata": {},
   "source": [
    "#### Defining a class' public member functions\n"
   ]
  },
  {
   "cell_type": "markdown",
   "metadata": {},
   "source": [
    "A programmer defining a class first declares member functions after the word \"public:\" in the class definition. A function declaration provides the class' name, return type, and arguments, but not the function's statements.\n",
    "\n",
    "The programmer must also define each member function. A function definition provides a class name, return type, arguments, and the function's statements. A member function definition has the class name and two colons (::), known as the scope resolution operator, preceding the function's name. A member function definition can access private data members.\n",
    "\n"
   ]
  },
  {
   "cell_type": "code",
   "execution_count": null,
   "metadata": {},
   "outputs": [],
   "source": [
    "class MyClass {\n",
    "  public:\n",
    "     void Fct1(); \n",
    "\n",
    "  private:\n",
    "     int numA;\n",
    "};\n",
    "void Fct1() {\n",
    "  numA = 0;\n",
    "}\n",
    "void MyClass::Fct1() {\n",
    "  numA = 0;\n",
    "}"
   ]
  },
  {
   "cell_type": "markdown",
   "metadata": {},
   "source": [
    "### A complete class definition, and use of that class."
   ]
  },
  {
   "cell_type": "code",
   "execution_count": null,
   "metadata": {},
   "outputs": [],
   "source": [
    "#include <iostream>\n",
    "#include <string>\n",
    "using namespace std;\n",
    "\n",
    "class Restaurant {                          // Info about a restaurant\n",
    "   public:\n",
    "      void SetName(string restaurantName);  // Sets the restuarant's name\n",
    "      void SetRating(int userRating);       // Sets the rating (1-5, with 5 best)\n",
    "      void Print();                         // Prints name and rating on one line\n",
    "   \n",
    "   private:\n",
    "      string name;\n",
    "      int rating;\n",
    "};\n",
    "\n",
    "// Sets the restuarant's name\n",
    "void Restaurant::SetName(string restaurantName) {\n",
    "   name = restaurantName;\n",
    "}\n",
    "\n",
    "// Sets the rating (1-5, with 5 best)\n",
    "void Restaurant::SetRating(int userRating) {\n",
    "   rating = userRating;\n",
    "}\n",
    "\n",
    "// Prints name and rating on one line\n",
    "void Restaurant::Print() {\n",
    "   cout << name << \" -- \" << rating << endl;\n",
    "}\n",
    "\n",
    "int main() {\n",
    "   Restaurant favLunchPlace;\n",
    "   Restaurant favDinnerPlace;\n",
    "   \n",
    "   favLunchPlace.SetName(\"Central Deli\");\n",
    "   favLunchPlace.SetRating(4);\n",
    "   \n",
    "   favDinnerPlace.SetName(\"Friends Cafe\");\n",
    "   favDinnerPlace.SetRating(5);\n",
    "   \n",
    "   cout << \"My favorite restaurants: \" << endl;\n",
    "   favLunchPlace.Print();\n",
    "   favDinnerPlace.Print();\n",
    "   \n",
    "   return 0;\n",
    "}"
   ]
  },
  {
   "cell_type": "markdown",
   "metadata": {},
   "source": [
    "#### Inline member functions\n"
   ]
  },
  {
   "cell_type": "markdown",
   "metadata": {},
   "source": [
    "A member function's definition may appear within the class definition, known as an inline member function. Programmers may inline short function definitions to yield more compact code, keeping longer function definitions outside the class definition to avoid clutter.\n"
   ]
  },
  {
   "cell_type": "markdown",
   "metadata": {},
   "source": [
    "#### Data member initialization (C++11) "
   ]
  },
  {
   "cell_type": "code",
   "execution_count": null,
   "metadata": {},
   "outputs": [],
   "source": [
    "#include <iostream>\n",
    "#include <string>\n",
    "using namespace std;\n",
    "\n",
    "class Restaurant {\n",
    "   public:\n",
    "      void SetName(string restaurantName);\n",
    "      void SetRating(int userRating);\n",
    "      void Print();\n",
    "   \n",
    "   private:\n",
    "      string name = \"NoName\";  // NoName indicates name was not set\n",
    "      int rating = -1;         // -1 indicates rating was not set\n",
    "};\n"
   ]
  },
  {
   "cell_type": "markdown",
   "metadata": {},
   "source": [
    "#### Constructors"
   ]
  },
  {
   "cell_type": "code",
   "execution_count": null,
   "metadata": {},
   "outputs": [],
   "source": [
    "\n",
    "class Restaurant {\n",
    "   public:\n",
    "      Restaurant();\n",
    "      void SetName(string restaurantName);\n",
    "      void SetRating(int userRating);\n",
    "      void Print();\n",
    "   private:\n",
    "      string name;\n",
    "      int rating;\n",
    "};\n",
    "\n",
    "Restaurant::Restaurant() {  // Default constructor\n",
    "   name = \"NoName\";         // Default name: NoName indicates name was not set\n",
    "   rating = -1;             // Default rating: -1 indicates rating was not set\n",
    "}\n"
   ]
  }
 ],
 "metadata": {
  "kernelspec": {
   "display_name": "C++17",
   "language": "C++17",
   "name": "xeus-cling-cpp17"
  },
  "language_info": {
   "codemirror_mode": "text/x-c++src",
   "file_extension": ".cpp",
   "mimetype": "text/x-c++src",
   "name": "c++",
   "version": "-std=c++17"
  }
 },
 "nbformat": 4,
 "nbformat_minor": 2
}
